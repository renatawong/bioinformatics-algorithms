# Manual on using the bioinformatics algorithms in this repository
