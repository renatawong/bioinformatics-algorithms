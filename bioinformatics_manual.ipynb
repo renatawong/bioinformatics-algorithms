{
 "cells": [
  {
   "attachments": {},
   "cell_type": "markdown",
   "metadata": {},
   "source": [
    "# Using bioinformatics algorithms in this repository"
   ]
  },
  {
   "attachments": {},
   "cell_type": "markdown",
   "metadata": {},
   "source": [
    "`reverse_complement.py` returns the reverse complement of a DNA k-mer. \n",
    "\n",
    "**Example:** k-mer = ACTAAG<br>\n",
    "         reverse k-mer = GAATCA<br>\n",
    "         reverse complement k-mer = CTTAGT<br>\n",
    "\n",
    "**Arguments:** text file consisting of a single DNA k-mer. If no file is specified, `text_files/Vibrio_cholerae.txt` is used by default."
   ]
  },
  {
   "attachments": {},
   "cell_type": "markdown",
   "metadata": {},
   "source": [
    "`count_kmer_occurrences.py` counts number of occurrences of a k-mer in a given genome sequence.\n",
    "\n",
    "The file to be read consists of 2 lines:<br>\n",
    "Line 1: genome sequence<br>\n",
    "Line 2: k-mer<br>\n",
    "\n",
    "Example: `text_files/Vibrio_cholerae.txt`, the DNA sequence of the bacteria that couses cholera.\n",
    "\n",
    "**Sample input:**  <br>\n",
    "GCGCG<br>\n",
    "GCG\n",
    "\n",
    "**Output:** 2\n"
   ]
  },
  {
   "cell_type": "code",
   "execution_count": null,
   "metadata": {
    "vscode": {
     "languageId": "plaintext"
    }
   },
   "outputs": [],
   "source": []
  }
 ],
 "metadata": {
  "language_info": {
   "name": "python"
  },
  "orig_nbformat": 4
 },
 "nbformat": 4,
 "nbformat_minor": 2
}
