{
 "cells": [
  {
   "attachments": {},
   "cell_type": "markdown",
   "metadata": {},
   "source": [
    "# Using bioinformatics algorithms in this repository"
   ]
  },
  {
   "attachments": {},
   "cell_type": "markdown",
   "metadata": {},
   "source": [
    "`reverse_complement.py` returns the reverse complement of a DNA k-mer. \n",
    "\n",
    "**Example:** k-mer = ACTAAG<br>\n",
    "         reverse k-mer = GAATCA<br>\n",
    "         reverse complement k-mer = CTTAGT<br>\n",
    "\n",
    "The file to be read consists of a single DNA k-mer. If no file is specified, `text_files/Vibrio_cholerae.txt` is used by default."
   ]
  },
  {
   "attachments": {},
   "cell_type": "markdown",
   "metadata": {},
   "source": [
    "`count_kmer_occurrences.py` counts number of occurrences of a k-mer in a given genome sequence.\n",
    "\n",
    "The file to be read consists of 2 lines:<br>\n",
    "Line 1: genome sequence<br>\n",
    "Line 2: k-mer<br>\n",
    "\n",
    "**Sample input:**  <br>\n",
    "GCGCG<br>\n",
    "GCG\n",
    "\n",
    "**Output:** 2\n"
   ]
  },
  {
   "attachments": {},
   "cell_type": "markdown",
   "metadata": {},
   "source": [
    "`frequent_kmers.py` findins patterns of length *k* (k-mers) that occur most frequently in a genome.\n",
    "\n",
    "The file to be read consists of 2 lines:<br>\n",
    "Line 1: Nucleotide sequence<br>\n",
    "Line 2: length k of k-mer<br>\n",
    "\n",
    "**Sample input:** <br>\n",
    "ACGTTGCATGTCGCATGATGCATGAGAGCT<br>\n",
    "4<br>\n",
    "\n",
    "**Output:**\n",
    "CATG GCAT"
   ]
  },
  {
   "attachments": {},
   "cell_type": "markdown",
   "metadata": {},
   "source": [
    "`kmer_genome_match.py` generates the list of indices in a genome that indicate the start of the k-mer. \n",
    "\n",
    "The file to be read consists of 2 lines:<br>\n",
    "Line 1: k-mer, e.g. ACT<br>\n",
    "Line 2: genome sequence<br>\n",
    "\n",
    "If no file is specified, `text_files/Kmer_genome_match.txt` is used by default.\n",
    "\n",
    "**Sample input:**<br>\n",
    "ATAT<br>\n",
    "GATATATGCATATACTT<br>\n",
    "\n",
    "**Output:** 1 3 9"
   ]
  },
  {
   "attachments": {},
   "cell_type": "markdown",
   "metadata": {},
   "source": [
    "`find_kmer_clumps.py` finds all k-mers that occur t times within a window of length L. \n",
    "\n",
    "The file to be read consists of 2 lines:<br>\n",
    "Line 1: genome sequence<br>\n",
    "Line 2: k L t<br>\n",
    "\n",
    "If no file is specified, the file `text_files.E-coli_kmer_clumps.txt` is used for calculation. \n",
    "It contains the genome of E.coli.\n",
    "\n",
    "**Sample input:** <br>\n",
    "CGGACTCGACAGATGTGAAGAACGACAATGTGAAGACTCGACACGACAGAGTGAAGAGAAGAGGAAACATTGTAA<br>\n",
    "5 50 4<br>\n",
    "\n",
    "**Output:** CGACA GAAGA"
   ]
  },
  {
   "attachments": {},
   "cell_type": "markdown",
   "metadata": {},
   "source": [
    "`minimum_skew_problem.py` finds the point(s) for which the number of guanines - the number of cytosines is minimal within a genome. This minimum could be the original of replication of the genome. \n",
    "\n",
    "The file to be read consists of a single line:<br>\n",
    "Line 1: genome sequence<br>\n",
    "\n",
    "If no file is specified, the file `text_files/Vibrio_cholerae.txt` is used for calculation. \n",
    "It contains the genome of the bacteria causing cholera.\n",
    "\n",
    "NOTE: Positions are counted from 1 on, not from 0. \n",
    "\n",
    "**Sample input:**<br>\n",
    "TAAAGACTGCCGAGAGGCCAACACGAGTGCTAGAACGAGGGGCGTAAACGCGGGTCCGAT<br>\n",
    "\n",
    "**Output:** 11 24"
   ]
  },
  {
   "attachments": {},
   "cell_type": "markdown",
   "metadata": {},
   "source": [
    "`hamming_distance.py` calculates the Hamming distance between two DNA strands. \n",
    "\n",
    "The file to be read consists of two lines:<br>\n",
    "Line 1: DNA sequence 1<br>\n",
    "Line 2: DNA sequence 2<br>\n",
    "\n",
    "If no file is specified, the file `text_files/Hamming_distance.txt` is used for calculation. \n",
    "\n",
    "**Sample input:**<br>\n",
    "GGGCCGTTGGT<br>\n",
    "GGACCGTTGAC<br>\n",
    "\n",
    "**Output:** 3"
   ]
  },
  {
   "attachments": {},
   "cell_type": "markdown",
   "metadata": {},
   "source": [
    "`approximate_pattern_matching.py` finds the total count of k-mers within a genome that differ with the genome by at most Hamming distance *d*. The code also outputs the indices of the approximately matching k-mers. \n",
    "\n",
    "The file to be read consists of two lines:<br>\n",
    "Line 1: k-mer, e.g. 'TGC'<br>\n",
    "Line 2: DNA sequence<br>\n",
    "Line 3: d (maximum allowed distance)<br>\n",
    "\n",
    "If no file is specified, the file `text_files/Approx_matching.txt` is used for calculation.\n",
    "\n",
    "**Sample input:**<br>\n",
    "ATTCTGGA<br>\n",
    "CGCCCGAATCCAGAACGCATTCCCATATTTCGGGACCACTGGCCTCCACGGTACGGACGTCAATCAAAT<br>\n",
    "3<br>\n",
    "\n",
    "**Output:**<br>\n",
    "4<br>\n",
    "6 7 26 27<br>\n"
   ]
  }
 ],
 "metadata": {
  "language_info": {
   "name": "python"
  },
  "orig_nbformat": 4
 },
 "nbformat": 4,
 "nbformat_minor": 2
}
