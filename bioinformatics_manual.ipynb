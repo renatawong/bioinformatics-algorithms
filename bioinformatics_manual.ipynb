{
 "cells": [
  {
   "attachments": {},
   "cell_type": "markdown",
   "metadata": {},
   "source": [
    "# Using bioinformatics algorithms in this repository"
   ]
  },
  {
   "attachments": {},
   "cell_type": "markdown",
   "metadata": {},
   "source": [
    "`reverse_complement.py` returns the reverse complement of a DNA k-mer. \n",
    "\n",
    "**Example:** k-mer = ACTAAG<br>\n",
    "         reverse k-mer = GAATCA<br>\n",
    "         reverse complement k-mer = CTTAGT<br>\n",
    "\n",
    "The file to be read consists of a single DNA k-mer. If no file is specified, `text_files/Vibrio_cholerae.txt` is used by default."
   ]
  },
  {
   "attachments": {},
   "cell_type": "markdown",
   "metadata": {},
   "source": [
    "`count_kmer_occurrences.py` counts number of occurrences of a k-mer in a given genome sequence.\n",
    "\n",
    "The file to be read consists of 2 lines:<br>\n",
    "Line 1: genome sequence<br>\n",
    "Line 2: k-mer<br>\n",
    "\n",
    "**Sample input:**  <br>\n",
    "GCGCG<br>\n",
    "GCG\n",
    "\n",
    "**Output:** 2\n"
   ]
  },
  {
   "attachments": {},
   "cell_type": "markdown",
   "metadata": {},
   "source": [
    "`frequent_kmers.py` findins patterns of length *k* (k-mers) that occur most frequently in a genome.\n",
    "\n",
    "The file to be read consists of 2 lines:<br>\n",
    "Line 1: Nucleotide sequence<br>\n",
    "Line 2: length k of k-mer<br>\n",
    "\n",
    "**Sample input:** <br>\n",
    "ACGTTGCATGTCGCATGATGCATGAGAGCT<br>\n",
    "4<br>\n",
    "\n",
    "**Output:**\n",
    "CATG GCAT"
   ]
  },
  {
   "attachments": {},
   "cell_type": "markdown",
   "metadata": {},
   "source": [
    "`kmer_genome_match.py` generates the list of indices in a genome that indicate the start of the k-mer. \n",
    "\n",
    "The file to be read consists of 2 lines:<br>\n",
    "Line 1: k-mer, e.g. ACT<br>\n",
    "Line 2: genome sequence<br>\n",
    "\n",
    "If no file is specified, `text_files/Kmer_genome_match.txt` is used by default.\n",
    "\n",
    "**Sample input:**<br>\n",
    "ATAT<br>\n",
    "GATATATGCATATACTT<br>\n",
    "\n",
    "**Output:** 1 3 9"
   ]
  },
  {
   "attachments": {},
   "cell_type": "markdown",
   "metadata": {},
   "source": [
    "`find_kmer_clumps.py` finds all k-mers that occur t times within a window of length L. \n",
    "\n",
    "The file to be read consists of 2 lines:<br>\n",
    "Line 1: genome sequence<br>\n",
    "Line 2: k L t<br>\n",
    "\n",
    "If no file is specified, the file `text_files.E-coli_kmer_clumps.txt` is used for calculation. \n",
    "It contains the genome of E.coli.\n",
    "\n",
    "**Sample input:** <br>\n",
    "CGGACTCGACAGATGTGAAGAACGACAATGTGAAGACTCGACACGACAGAGTGAAGAGAAGAGGAAACATTGTAA<br>\n",
    "5 50 4<br>\n",
    "\n",
    "**Output:** CGACA GAAGA"
   ]
  },
  {
   "attachments": {},
   "cell_type": "markdown",
   "metadata": {},
   "source": [
    "`minimum_skew_problem.py` finds the point(s) for which the number of guanines - the number of cytosines is minimal within a genome. This minimum could be the original of replication of the genome. \n",
    "\n",
    "The file to be read consists of a single line:<br>\n",
    "Line 1: genome sequence<br>\n",
    "\n",
    "If no file is specified, the file `text_files/Vibrio_cholerae.txt` is used for calculation. \n",
    "It contains the genome of the bacteria causing cholera.\n",
    "\n",
    "NOTE: Positions are counted from 1 on, not from 0. \n",
    "\n",
    "**Sample input:**<br>\n",
    "TAAAGACTGCCGAGAGGCCAACACGAGTGCTAGAACGAGGGGCGTAAACGCGGGTCCGAT<br>\n",
    "\n",
    "**Output:** 11 24"
   ]
  },
  {
   "attachments": {},
   "cell_type": "markdown",
   "metadata": {},
   "source": [
    "`hamming_distance.py` calculates the Hamming distance between two DNA strands. \n",
    "\n",
    "The file to be read consists of two lines:<br>\n",
    "Line 1: DNA sequence 1<br>\n",
    "Line 2: DNA sequence 2<br>\n",
    "\n",
    "If no file is specified, the file `text_files/Hamming_distance.txt` is used for calculation. \n",
    "\n",
    "**Sample input:**<br>\n",
    "GGGCCGTTGGT<br>\n",
    "GGACCGTTGAC<br>\n",
    "\n",
    "**Output:** 3"
   ]
  },
  {
   "attachments": {},
   "cell_type": "markdown",
   "metadata": {},
   "source": [
    "`approximate_pattern_matching.py` finds the total count of k-mers within a genome that differ with the genome by at most Hamming distance *d*. The code also outputs the indices of the approximately matching k-mers. \n",
    "\n",
    "The file to be read consists of two lines:<br>\n",
    "Line 1: k-mer, e.g. 'TGC'<br>\n",
    "Line 2: DNA sequence<br>\n",
    "Line 3: d (maximum allowed distance)<br>\n",
    "\n",
    "If no file is specified, the file `text_files/Approx_matching.txt` is used for calculation.\n",
    "\n",
    "**Sample input:**<br>\n",
    "ATTCTGGA<br>\n",
    "CGCCCGAATCCAGAACGCATTCCCATATTTCGGGACCACTGGCCTCCACGGTACGGACGTCAATCAAAT<br>\n",
    "3<br>\n",
    "\n",
    "**Output:**<br>\n",
    "4<br>\n",
    "6 7 26 27<br>\n"
   ]
  },
  {
   "attachments": {},
   "cell_type": "markdown",
   "metadata": {},
   "source": [
    "`frequent_kmers_with_mismatches.py` finds patterns of length k (k-mers) that occur most frequently in a genome. \n",
    "The k-mers are allowed to have a mismatch of magnitude up to d (Hamming distance).\n",
    "\n",
    "The file to be read consists of 2 lines:<br>\n",
    "Line 1: Nucleotide sequence<br>\n",
    "Line 2: k (length k of k-mer) d (Hamming distance measure for level of mismatch)<br>\n",
    "\n",
    "If no file is specified by the user, `text_files/Frequent_patterns_with_mismatch.txt` is used by default.\n",
    "\n",
    "**Sample input:**<br>\n",
    "GGCGGGCGTACGATGGATAGGGGATACGGAGGAGGCGGGAGATTACTACGGATACTACGGAGGCGGGCGGGCGTAGGGATTACTAGGGGAGGAGATGGAGATGGCGGATTACGGCGGGAGGCGGATTAGGTAGGTACGGAGATTACGGATACTAGGGATTACGGCGTAGGTAGGGATGATTAGGTACGATGGAGGATAGGGATTAGGTAGGTAGGGGCGTACGGCGGGATAGGGATTAGGGATTAGGGATGGCGGATGGATACGGCGTAGGGATGGAGATGGCGTAGGGGATAGGTACGGCGTAGGGGCGGATTAGGGGAGGCGGATTACGATGGCG<br>\n",
    "5 3<br>\n",
    "\n",
    "**Output:** GGGGG"
   ]
  },
  {
   "attachments": {},
   "cell_type": "markdown",
   "metadata": {},
   "source": [
    "`frequent_kmers_mismatch_reverse_complement.py` finds patterns of length k (k-mers) that occur most frequently in a genome. <br>\n",
    "The k-mers are allowed to have a mismatch of magnitude d (Hamming distance). <br>\n",
    "Reverse complements and their mismatches are included as well.<br>\n",
    "\n",
    "The output consists of all k-mers with the highest sum of counts:<br>\n",
    "max (count(pattern) + count(reverse_complement))<br>\n",
    "\n",
    "The file to be read consists of 2 lines:<br>\n",
    "Line 1: Nucleotide sequence<br>\n",
    "Line 2: k (length k of k-mer) d (Hamming distance measure for level of mismatch)\n",
    "\n",
    "**Sample input:**<br>\n",
    "ACGTTGCATGTCGCATGATGCATGAGAGCT<br>\n",
    "4 1<br>\n",
    "\n",
    "**Output:** ATGT ACAT"
   ]
  },
  {
   "attachments": {},
   "cell_type": "markdown",
   "metadata": {},
   "source": [
    "`neighbours.py` generates the set of all k-mers whose Hamming distance from pattern does not exceed d.\n",
    "\n",
    "The file to be read consists of 2 lines:<br>\n",
    "Line 1: pattern<br>\n",
    "Line 2: d<br>\n",
    "\n",
    "If no file is specified, the default file Neighbours.txt is loaded.\n",
    "\n",
    "**Sample input:**<br>\n",
    "ACG<br>\n",
    "1<br>\n",
    "\n",
    "**Output:** CCG TCG GCG AAG ATG AGG ACA ACC ACT ACG"
   ]
  },
  {
   "attachments": {},
   "cell_type": "markdown",
   "metadata": {},
   "source": [
    "`motif_enumeration.py` finds all (k,d)-motifs in given genome sequences. (k,d)-motifs are k-mers with a distance of at most d. The hope is that these motifs correspond to regulatory motifs used by regulatory proteins to bind to in order to control the expression of different genes (circadian activity). \n",
    "\n",
    "The file to be read consists of 2 lines:<br>\n",
    "Line 1: k d<br>\n",
    "Line 2: sequence1 sequence2 sequence3 ...<br>\n",
    "\n",
    "**Sample Input:** <br>\n",
    "3 1<br>\n",
    "ATTTGGC TGCCTTA CGGTATC GAAAATT<br>\n",
    "\n",
    "**Output:** ATA ATT GTT TTT"
   ]
  },
  {
   "attachments": {},
   "cell_type": "markdown",
   "metadata": {},
   "source": [
    "`motif_entropy.py` calculates the entropy of a set of motifs.\n",
    "\n",
    "The file to be read consists of 1 line:<br>\n",
    "Line 1: motif1 motif2 motif3 ...<br>\n",
    "\n",
    "If no file is specified, 'Motif_entropy.txt' is loaded by default.<br>\n",
    "\n",
    "**Sample input:**<br>\n",
    "TCGGGGGTTTTT CCGGTGACTTAC ACGGGGATTTTC TTGGGGACTTTT AAGGGGACTTCC TTGGGGACTTCC TCGGGGATTCAT TCGGGGATTCCT TAGGGGAACTAC TCGGGTATAACC<br>\n",
    "\n",
    "**Output:** 9.916290005356972"
   ]
  },
  {
   "attachments": {},
   "cell_type": "markdown",
   "metadata": {},
   "source": [
    "`median_string_problem.py` finds a k-mer that minimizes distance(kmer, dna_string) among all possible choices of k-mers\n",
    "\n",
    "The file to be read consists of 2 lines:<br>\n",
    "Line 1: k<br>\n",
    "Line 2: DNA strings separated by a space<br>\n",
    "\n",
    "This is a brute force method.<br>\n",
    "\n",
    "**Sample input:**<br>\n",
    "3<br>\n",
    "AAATTGACGCAT GACGACCACGTT CGTCAGCGCCTG GCTGAGCACCGG AGTTCGGGACAG<br>\n",
    "\n",
    "**Output:** GAC"
   ]
  }
 ],
 "metadata": {
  "language_info": {
   "name": "python"
  },
  "orig_nbformat": 4
 },
 "nbformat": 4,
 "nbformat_minor": 2
}
