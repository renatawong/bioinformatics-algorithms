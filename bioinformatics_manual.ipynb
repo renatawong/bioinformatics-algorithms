{
 "cells": [
  {
   "attachments": {},
   "cell_type": "markdown",
   "metadata": {},
   "source": [
    "# Using bioinformatics algorithms in this repository"
   ]
  },
  {
   "attachments": {},
   "cell_type": "markdown",
   "metadata": {},
   "source": [
    "`reverse_complement.py` returns the reverse complement of a DNA k-mer. \n",
    "\n",
    "**Example:** k-mer = ACTAAG<br>\n",
    "         reverse k-mer = GAATCA<br>\n",
    "         reverse complement k-mer = CTTAGT<br>\n",
    "\n",
    "The file to be read consists of a single DNA k-mer. If no file is specified, `text_files/Vibrio_cholerae.txt` is used by default."
   ]
  },
  {
   "attachments": {},
   "cell_type": "markdown",
   "metadata": {},
   "source": [
    "`count_kmer_occurrences.py` counts number of occurrences of a k-mer in a given genome sequence.\n",
    "\n",
    "The file to be read consists of 2 lines:<br>\n",
    "Line 1: genome sequence<br>\n",
    "Line 2: k-mer<br>\n",
    "\n",
    "**Sample input:**  <br>\n",
    "GCGCG<br>\n",
    "GCG\n",
    "\n",
    "**Output:** 2\n"
   ]
  },
  {
   "attachments": {},
   "cell_type": "markdown",
   "metadata": {},
   "source": [
    "`find_frequent_kmers.py` findins patterns of length *k* (k-mers) that occur most frequently in a genome.\n",
    "\n",
    "The file to be read consists of 2 lines:<br>\n",
    "Line 1: Nucleotide sequence<br>\n",
    "Line 2: length k of k-mer<br>\n",
    "\n",
    "**Sample input:** <br>\n",
    "ACGTTGCATGTCGCATGATGCATGAGAGCT<br>\n",
    "4<br>\n",
    "**Output:**\n",
    "CATG GCAT"
   ]
  },
  {
   "attachments": {},
   "cell_type": "markdown",
   "metadata": {},
   "source": [
    "`kmer_genome_match.py` generates the list of indices in a genome that indicate the start of the k-mer. \n",
    "\n",
    "The file to be read consists of 2 lines:<br>\n",
    "Line 1: k-mer, e.g. ACT<br>\n",
    "Line 2: genome sequence<br>\n",
    "\n",
    "If no file is specified, `text_files/Kmer_genome_match.txt` is used by default.\n",
    "\n",
    "**Sample input:**<br>\n",
    "ATAT<br>\n",
    "GATATATGCATATACTT<br>\n",
    "\n",
    "**Output:** 1 3 9"
   ]
  }
 ],
 "metadata": {
  "language_info": {
   "name": "python"
  },
  "orig_nbformat": 4
 },
 "nbformat": 4,
 "nbformat_minor": 2
}
